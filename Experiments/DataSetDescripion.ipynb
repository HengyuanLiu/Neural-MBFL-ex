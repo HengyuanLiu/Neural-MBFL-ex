{
 "cells": [
  {
   "cell_type": "code",
   "execution_count": null,
   "id": "49ee9494-bacc-4eb5-98c3-2f37a8bc3179",
   "metadata": {
    "tags": []
   },
   "outputs": [],
   "source": [
    "import os\n",
    "import json\n",
    "import time\n",
    "import subprocess\n",
    "import numpy as np\n",
    "import pandas as pd\n",
    "import matplotlib.pyplot as plt\n",
    "from matplotlib_venn import venn2, venn3\n",
    "from itertools import product\n",
    "from pathlib import Path\n",
    "from tqdm import tqdm"
   ]
  },
  {
   "cell_type": "code",
   "execution_count": null,
   "id": "a6856c35-e4e9-43b5-9646-49ab02f58392",
   "metadata": {
    "tags": []
   },
   "outputs": [],
   "source": [
    "from FLResultAnalyst import FLResultAnalyst\n",
    "from Utils.STEnvConfig import get_pathConfig\n",
    "from Utils.DatasetConfig import get_D4Jprojects, get_D4Jversions, get_SrcPath4D4J, get_TestCases4D4J\n",
    "from Utils.FileStatistic import get_files_with_suffix, count_lines\n",
    "from Utils.PandasHelper import move_column_to_pos, move_rows_with_value_to_end\n",
    "from Utils.ColorPalette import GenshinImpactColorPalette as GIColorPalette"
   ]
  },
  {
   "cell_type": "code",
   "execution_count": null,
   "id": "37a3aac9-0f28-46bb-8e18-00291c480d53",
   "metadata": {
    "tags": []
   },
   "outputs": [],
   "source": [
    "pathConfig = get_pathConfig()\n",
    "if pathConfig:\n",
    "    D4J = Path(pathConfig[\"D4J\"])\n",
    "    MBFL_Metric = Path(pathConfig[\"MBFL_Metric\"])\n",
    "print(D4J.as_posix())\n",
    "print(MBFL_Metric.as_posix())"
   ]
  },
  {
   "cell_type": "markdown",
   "id": "67c42334-a6ee-4e45-9cb8-2e16a2049f62",
   "metadata": {},
   "source": [
    "### **Count the Code Line**"
   ]
  },
  {
   "cell_type": "code",
   "execution_count": null,
   "id": "9ae9039a-3f51-4619-be20-c099759940df",
   "metadata": {
    "tags": []
   },
   "outputs": [],
   "source": [
    "results = []\n",
    "\n",
    "projects = get_D4Jprojects(DatasetVersion=\"v2.0\")\n",
    "for project in projects:\n",
    "    start_time = time.time()  \n",
    "    \n",
    "    project_repo_path = D4J / \"project_repository\"\n",
    "    total_lines = []\n",
    "    total_testcases = []\n",
    "    \n",
    "    versions = get_D4Jversions(project)\n",
    "    for version in versions:\n",
    "        project_version_repo_path = project_repo_path / f\"{project}/{version}b\"\n",
    "        project_version_src_path = project_version_repo_path / get_SrcPath4D4J(project, version)\n",
    "        java_files_auto = get_files_with_suffix(project_version_src_path, method='auto', suffix='.java', recursive=True)\n",
    "        \n",
    "        version_lines = sum(count_lines(file, include_empty_lines=True) for file in java_files_auto)\n",
    "        version_testcases = len(get_TestCases4D4J(project, version))\n",
    "        \n",
    "        total_lines.append(version_lines)\n",
    "        total_testcases.append(version_testcases)\n",
    "    \n",
    "    avg_kloc = sum(total_lines) / len(total_lines) / 1000\n",
    "    avg_testcases = sum(total_testcases) / len(total_testcases)\n",
    "    \n",
    "    results.append([project, len(versions), avg_testcases, avg_kloc])\n",
    "    \n",
    "    end_time = time.time()  \n",
    "    print(f\"[{project}] {avg_kloc:4.0f} | Execution time: {end_time - start_time} seconds\")\n",
    "    \n",
    "    df = pd.DataFrame(results, columns=['Project', '\n",
    "    \n",
    "df.to_csv('./Results/DataSetDescription.csv', index=False)"
   ]
  }
 ],
 "metadata": {
  "kernelspec": {
   "display_name": "Python 3 (ipykernel)",
   "language": "python",
   "name": "python3"
  },
  "language_info": {
   "codemirror_mode": {
    "name": "ipython",
    "version": 3
   },
   "file_extension": ".py",
   "mimetype": "text/x-python",
   "name": "python",
   "nbconvert_exporter": "python",
   "pygments_lexer": "ipython3",
   "version": "3.9.18"
  }
 },
 "nbformat": 4,
 "nbformat_minor": 5
}
